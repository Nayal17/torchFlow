{
  "cells": [
    {
      "cell_type": "markdown",
      "source": [
        "# Server Notebook\n",
        "\n",
        "This notebook is used to start (run) the backend server that:\n",
        "- makes the ONNX model ready for inference,\n",
        "- receives the images,\n",
        "- predicts using the ONNX model; and\n",
        "- sends the predicted output."
      ],
      "metadata": {
        "id": "4_JZPZEdEIVf"
      }
    },
    {
      "cell_type": "markdown",
      "source": [
        "## Setting up the environment (skip this step if the data is already acquired)\n",
        "Create a new virtual environment using venv or if already created, move on to the next part."
      ],
      "metadata": {
        "id": "dByo3wlYEg8B"
      }
    },
    {
      "cell_type": "code",
      "execution_count": null,
      "metadata": {
        "id": "x_rwPSbdEFNx"
      },
      "outputs": [],
      "source": [
        "# !python3 -m venv venv\n",
        "# !source venv/bin/activate"
      ]
    },
    {
      "cell_type": "markdown",
      "source": [
        "### Cloning the repo\n",
        "Clone the repo and install the required packages defined in `requirements.txt`."
      ],
      "metadata": {
        "id": "f01IJ_TxEkuQ"
      }
    },
    {
      "cell_type": "markdown",
      "source": [
        "Run the following shell script to (skip this if the data is already arranged):\n",
        "\n",
        "- download the `onnx model` checkpoints to the models directory."
      ],
      "metadata": {
        "id": "OK8uLt50EpLi"
      }
    },
    {
      "cell_type": "code",
      "execution_count": 2,
      "metadata": {
        "id": "WGQgRmyPEFN0"
      },
      "outputs": [],
      "source": [
        "%%capture\n",
        "!git clone https://github.com/arnavrneo/torchFlow.git\n",
        "%cd torchFlow\n",
        "!pip install -r requirements.txt"
      ]
    },
    {
      "cell_type": "code",
      "execution_count": 3,
      "metadata": {
        "id": "TQ3nSMnxEFN1"
      },
      "outputs": [],
      "source": [
        "%%capture\n",
        "!./get-data.sh"
      ]
    },
    {
      "cell_type": "markdown",
      "source": [
        "## Starting the server\n",
        "\n",
        "Make sure that the `colab` is running on `gpu`."
      ],
      "metadata": {
        "id": "RsEP41PKE2LU"
      }
    },
    {
      "cell_type": "code",
      "execution_count": 6,
      "metadata": {
        "colab": {
          "base_uri": "https://localhost:8080/"
        },
        "id": "x3zKR4a8EFN1",
        "outputId": "2ecf9c56-c467-4af6-8eb0-f199904504ea"
      },
      "outputs": [
        {
          "output_type": "stream",
          "name": "stdout",
          "text": [
            "/content/torchFlow/app/server\n"
          ]
        }
      ],
      "source": [
        "%cd app/server"
      ]
    },
    {
      "cell_type": "code",
      "execution_count": 7,
      "metadata": {
        "id": "NxDo1Evh8D2a"
      },
      "outputs": [],
      "source": [
        "%%capture\n",
        "!ngrok config add-authtoken 2THhoVviVOXuBq97RU9WW095Vtx_6pDFzgtkzRocdaTdBeVG7"
      ]
    },
    {
      "cell_type": "code",
      "execution_count": 8,
      "metadata": {
        "colab": {
          "base_uri": "https://localhost:8080/"
        },
        "id": "ots2MAE53Kax",
        "outputId": "b1403e6d-3dfa-4d60-ab14-aa91e004c10f"
      },
      "outputs": [
        {
          "output_type": "stream",
          "name": "stdout",
          "text": [
            "t=2023-08-01T08:52:38+0000 lvl=warn msg=\"ngrok config file found at legacy location, move to XDG location\" xdg_path=/root/.config/ngrok/ngrok.yml legacy_path=/root/.ngrok2/ngrok.yml\n",
            "Public URL: https://2d4d-34-31-8-61.ngrok-free.app\n",
            "\u001b[32mINFO\u001b[0m:     Started server process [\u001b[36m3397\u001b[0m]\n",
            "\u001b[32mINFO\u001b[0m:     Waiting for application startup.\n",
            "\u001b[32mINFO\u001b[0m:     Application startup complete.\n",
            "\u001b[32mINFO\u001b[0m:     Uvicorn running on \u001b[1mhttp://127.0.0.1:8000\u001b[0m (Press CTRL+C to quit)\n",
            "\u001b[32mINFO\u001b[0m:     2405:201:5502:1274:9f0f:5738:5803:f178:0 - \"\u001b[1mGET / HTTP/1.1\u001b[0m\" \u001b[32m200 OK\u001b[0m\n",
            "\u001b[32mINFO\u001b[0m:     2405:201:5502:1274:9f0f:5738:5803:f178:0 - \"\u001b[1mGET /favicon.ico HTTP/1.1\u001b[0m\" \u001b[31m404 Not Found\u001b[0m\n",
            "\u001b[32mINFO\u001b[0m:     2405:201:5502:1274:9f0f:5738:5803:f178:0 - \"\u001b[1mGET /predict HTTP/1.1\u001b[0m\" \u001b[33m307 Temporary Redirect\u001b[0m\n",
            "\u001b[32mINFO\u001b[0m:     2405:201:5502:1274:9f0f:5738:5803:f178:0 - \"\u001b[1mGET /predict/ HTTP/1.1\u001b[0m\" \u001b[31m405 Method Not Allowed\u001b[0m\n",
            "[1, 3, 3584, 3584]\n",
            "^C\n"
          ]
        }
      ],
      "source": [
        "!python main.py -m \"/content/torchFlow/models/torchFlow-ckpt.onnx\""
      ]
    }
  ],
  "metadata": {
    "colab": {
      "gpuType": "T4",
      "provenance": []
    },
    "kernelspec": {
      "display_name": "Python 3",
      "name": "python3"
    },
    "language_info": {
      "name": "python"
    },
    "accelerator": "GPU"
  },
  "nbformat": 4,
  "nbformat_minor": 0
}