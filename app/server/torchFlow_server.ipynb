{
  "cells": [
    {
      "cell_type": "markdown",
      "source": [
        "# Server Notebook\n",
        "\n",
        "This notebook is used to start (run) the backend server that:\n",
        "- makes the ONNX model ready for inference,\n",
        "- receives the images,\n",
        "- predicts using the ONNX model; and\n",
        "- sends the predicted output."
      ],
      "metadata": {
        "id": "4_JZPZEdEIVf"
      }
    },
    {
      "cell_type": "markdown",
      "source": [
        "## Setting up the environment (skip this step if the data is already acquired)\n",
        "Create a new virtual environment using venv or if already created, move on to the next part."
      ],
      "metadata": {
        "id": "dByo3wlYEg8B"
      }
    },
    {
      "cell_type": "code",
      "execution_count": null,
      "metadata": {
        "id": "x_rwPSbdEFNx"
      },
      "outputs": [],
      "source": [
        "# !python3 -m venv venv\n",
        "# !source venv/bin/activate"
      ]
    },
    {
      "cell_type": "markdown",
      "source": [
        "### Cloning the repo\n",
        "Clone the repo and install the required packages defined in `requirements.txt`."
      ],
      "metadata": {
        "id": "f01IJ_TxEkuQ"
      }
    },
    {
      "cell_type": "markdown",
      "source": [
        "Run the following shell script to (skip this if the data is already arranged):\n",
        "\n",
        "- download the `onnx model` checkpoints to the models directory."
      ],
      "metadata": {
        "id": "OK8uLt50EpLi"
      }
    },
    {
      "cell_type": "code",
      "execution_count": null,
      "metadata": {
        "id": "WGQgRmyPEFN0"
      },
      "outputs": [],
      "source": [
        "%%capture\n",
        "!git clone https://github.com/arnavrneo/torchFlow.git\n",
        "%cd torchFlow\n",
        "!pip install -r requirements.txt"
      ]
    },
    {
      "cell_type": "code",
      "execution_count": null,
      "metadata": {
        "id": "TQ3nSMnxEFN1"
      },
      "outputs": [],
      "source": [
        "%%capture\n",
        "!./get-data.sh"
      ]
    },
    {
      "cell_type": "markdown",
      "source": [
        "## Starting the server\n",
        "\n",
        "Make sure that the `colab` is running on `gpu`."
      ],
      "metadata": {
        "id": "RsEP41PKE2LU"
      }
    },
    {
      "cell_type": "code",
      "execution_count": null,
      "metadata": {
        "id": "x3zKR4a8EFN1"
      },
      "outputs": [],
      "source": [
        "%cd app/server"
      ]
    },
    {
      "cell_type": "code",
      "execution_count": null,
      "metadata": {
        "id": "NxDo1Evh8D2a"
      },
      "outputs": [],
      "source": [
        "%%capture\n",
        "!ngrok config add-authtoken 2THhoVviVOXuBq97RU9WW095Vtx_6pDFzgtkzRocdaTdBeVG7"
      ]
    },
    {
      "cell_type": "code",
      "execution_count": null,
      "metadata": {
        "id": "ots2MAE53Kax"
      },
      "outputs": [],
      "source": [
        "!python main.py -m \"ONNX MODEL PATH HERE\""
      ]
    }
  ],
  "metadata": {
    "colab": {
      "gpuType": "T4",
      "provenance": [],
      "collapsed_sections": [
        "dByo3wlYEg8B"
      ]
    },
    "kernelspec": {
      "display_name": "Python 3",
      "name": "python3"
    },
    "language_info": {
      "name": "python"
    }
  },
  "nbformat": 4,
  "nbformat_minor": 0
}