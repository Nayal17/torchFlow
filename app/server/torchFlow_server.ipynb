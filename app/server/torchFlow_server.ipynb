{
  "cells": [
    {
      "cell_type": "markdown",
      "source": [
        "# Server Notebook\n",
        "\n",
        "This notebook is used to start (run) the backend server that:\n",
        "- makes the ONNX model ready for inference,\n",
        "- receives the images,\n",
        "- predicts using the ONNX model; and\n",
        "- sends the predicted output."
      ],
      "metadata": {
        "id": "4_JZPZEdEIVf"
      }
    },
    {
      "cell_type": "markdown",
      "source": [
        "## Setting up the environment (skip this step if the data is already acquired)\n",
        "Create a new virtual environment using venv or if already created, move on to the next part."
      ],
      "metadata": {
        "id": "dByo3wlYEg8B"
      }
    },
    {
      "cell_type": "code",
      "execution_count": null,
      "metadata": {
        "id": "x_rwPSbdEFNx"
      },
      "outputs": [],
      "source": [
        "# !python3 -m venv venv\n",
        "# !source venv/bin/activate"
      ]
    },
    {
      "cell_type": "markdown",
      "source": [
        "### Cloning the repo\n",
        "Clone the repo and install the required packages defined in `requirements.txt`."
      ],
      "metadata": {
        "id": "f01IJ_TxEkuQ"
      }
    },
    {
      "cell_type": "markdown",
      "source": [
        "Run the following shell script to (skip this if the data is already arranged):\n",
        "\n",
        "- download the `onnx model` checkpoints to the models directory."
      ],
      "metadata": {
        "id": "OK8uLt50EpLi"
      }
    },
    {
      "cell_type": "code",
      "execution_count": 34,
      "metadata": {
        "id": "WGQgRmyPEFN0"
      },
      "outputs": [],
      "source": [
        "%%capture\n",
        "!git clone https://github.com/arnavrneo/torchFlow.git\n",
        "%cd torchFlow\n",
        "!pip install -r requirements.txt"
      ]
    },
    {
      "cell_type": "code",
      "execution_count": 2,
      "metadata": {
        "id": "TQ3nSMnxEFN1"
      },
      "outputs": [],
      "source": [
        "%%capture\n",
        "!./get-data.sh\n",
        "!mv assets.zip?dl=0 assets.zip\n",
        "!unzip assets.zip\n",
        "!rm -rf assets.zip\n",
        "!mv assets/* ./\n",
        "!rm -rf assets"
      ]
    },
    {
      "cell_type": "markdown",
      "source": [
        "## Starting the server\n",
        "\n",
        "Make sure that the `colab` is running on `gpu` for faster inference."
      ],
      "metadata": {
        "id": "RsEP41PKE2LU"
      }
    },
    {
      "cell_type": "code",
      "execution_count": 35,
      "metadata": {
        "colab": {
          "base_uri": "https://localhost:8080/"
        },
        "id": "x3zKR4a8EFN1",
        "outputId": "a19e93d4-6090-4bf6-ff4f-02666faa4b42"
      },
      "outputs": [
        {
          "output_type": "stream",
          "name": "stdout",
          "text": [
            "/content/torchFlow/app/server\n"
          ]
        }
      ],
      "source": [
        "%cd app/server"
      ]
    },
    {
      "cell_type": "markdown",
      "source": [
        "### Getting the public server url and making predictions\n",
        "\n",
        "After running the cell, our default `inference-url` will be displayed: `https://moving-legally-boar.ngrok-free.app/`. This means that our `inference-server` is up and running!\n",
        "\n",
        "The request is made to this `Public Url`. This domain can be customized as well according to the choice.\n"
      ],
      "metadata": {
        "id": "zIPepFwgT_ZH"
      }
    },
    {
      "cell_type": "code",
      "execution_count": 28,
      "metadata": {
        "colab": {
          "base_uri": "https://localhost:8080/"
        },
        "id": "ots2MAE53Kax",
        "outputId": "6da0a221-48c8-48a4-e25c-3348540a2799"
      },
      "outputs": [
        {
          "output_type": "stream",
          "name": "stdout",
          "text": [
            "t=2023-09-02T10:16:12+0000 lvl=warn msg=\"ngrok config file found at legacy location, move to XDG location\" xdg_path=/root/.config/ngrok/ngrok.yml legacy_path=/root/.ngrok2/ngrok.yml\n",
            "Public URL: https://moving-legally-boar.ngrok-free.app\n",
            "\u001b[32mINFO\u001b[0m:     Started server process [\u001b[36m11013\u001b[0m]\n",
            "\u001b[32mINFO\u001b[0m:     Waiting for application startup.\n",
            "\u001b[32mINFO\u001b[0m:     Application startup complete.\n",
            "\u001b[32mINFO\u001b[0m:     Uvicorn running on \u001b[1mhttp://127.0.0.1:8000\u001b[0m (Press CTRL+C to quit)\n",
            "\u001b[32mINFO\u001b[0m:     2405:201:5502:1127:d83b:926f:2f6b:be58:0 - \"\u001b[1mOPTIONS /predict/ HTTP/1.1\u001b[0m\" \u001b[32m200 OK\u001b[0m\n",
            "[1, 3, 3584, 3584]\n",
            "\u001b[32mINFO\u001b[0m:     2405:201:5502:1127:d83b:926f:2f6b:be58:0 - \"\u001b[1mPOST /predict/ HTTP/1.1\u001b[0m\" \u001b[32m200 OK\u001b[0m\n",
            "\u001b[32mINFO\u001b[0m:     2405:201:5502:1127:d83b:926f:2f6b:be58:0 - \"\u001b[1mGET / HTTP/1.1\u001b[0m\" \u001b[32m200 OK\u001b[0m\n",
            "\u001b[32mINFO\u001b[0m:     2405:201:5502:1127:d83b:926f:2f6b:be58:0 - \"\u001b[1mGET / HTTP/1.1\u001b[0m\" \u001b[32m200 OK\u001b[0m\n",
            "\u001b[32mINFO\u001b[0m:     2405:201:5502:1127:d83b:926f:2f6b:be58:0 - \"\u001b[1mGET /favicon.ico HTTP/1.1\u001b[0m\" \u001b[31m404 Not Found\u001b[0m\n",
            "\u001b[32mINFO\u001b[0m:     Shutting down\n",
            "\u001b[32mINFO\u001b[0m:     Waiting for application shutdown.\n",
            "\u001b[32mINFO\u001b[0m:     Application shutdown complete.\n",
            "\u001b[32mINFO\u001b[0m:     Finished server process [\u001b[36m11013\u001b[0m]\n"
          ]
        }
      ],
      "source": [
        "!python main.py -m \"/content/torchFlow/models/torchFlow-ckpt.onnx\" # -m is the path to onnx checkpoint"
      ]
    }
  ],
  "metadata": {
    "colab": {
      "gpuType": "T4",
      "provenance": [],
      "collapsed_sections": [
        "dByo3wlYEg8B"
      ]
    },
    "kernelspec": {
      "display_name": "Python 3",
      "name": "python3"
    },
    "language_info": {
      "name": "python"
    },
    "accelerator": "GPU"
  },
  "nbformat": 4,
  "nbformat_minor": 0
}