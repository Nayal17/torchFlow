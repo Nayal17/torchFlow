{
  "cells": [
    {
      "cell_type": "markdown",
      "metadata": {
        "id": "3dJtpV3xufYN"
      },
      "source": [
        "# Walkthrough notebook\n",
        "\n",
        "This notebook walks through our inference script.\n",
        "\n",
        "### Setting up the environment\n",
        "Create a new virtual environment using `venv` or if already created, move on to the next part."
      ]
    },
    {
      "cell_type": "code",
      "execution_count": null,
      "metadata": {
        "id": "SEkKZIBFueOt"
      },
      "outputs": [],
      "source": [
        "# !python3 -m venv venv\n",
        "# !source venv/bin/activate"
      ]
    },
    {
      "cell_type": "markdown",
      "metadata": {
        "id": "pLFKSz8Rug_0"
      },
      "source": [
        "### Cloning the repo\n",
        "Clone the repo and install the required packages defined in `requirements.txt`."
      ]
    },
    {
      "cell_type": "code",
      "execution_count": null,
      "metadata": {
        "execution": {
          "iopub.execute_input": "2023-07-05T16:51:10.684031Z",
          "iopub.status.busy": "2023-07-05T16:51:10.683230Z",
          "iopub.status.idle": "2023-07-05T16:51:56.120218Z",
          "shell.execute_reply": "2023-07-05T16:51:56.118952Z",
          "shell.execute_reply.started": "2023-07-05T16:51:10.683949Z"
        },
        "id": "ouowDB87uh5b",
        "trusted": true
      },
      "outputs": [],
      "source": [
        "%%capture\n",
        "!git clone https://github.com/arnavrneo/torchFlow.git\n",
        "%cd torchFlow\n",
        "!pip install -r requirements.txt"
      ]
    },
    {
      "cell_type": "markdown",
      "metadata": {
        "id": "h1LLZuTvujAk"
      },
      "source": [
        "Run the following shell script to (skip this if the data is already arranged):\n",
        "- download the `yolo` and `onnx` model checkpoints to the `models` directory."
      ]
    },
    {
      "cell_type": "code",
      "execution_count": null,
      "metadata": {
        "execution": {
          "iopub.execute_input": "2023-07-04T12:28:15.878619Z",
          "iopub.status.busy": "2023-07-04T12:28:15.878237Z",
          "iopub.status.idle": "2023-07-04T12:29:58.102754Z",
          "shell.execute_reply": "2023-07-04T12:29:58.101306Z",
          "shell.execute_reply.started": "2023-07-04T12:28:15.878588Z"
        },
        "id": "OV3pQTnzuj1U",
        "trusted": true
      },
      "outputs": [],
      "source": [
        "%%capture\n",
        "!./get-data.sh\n",
        "!mv assets.zip?dl=0 assets.zip\n",
        "!unzip assets.zip\n",
        "!rm -rf assets.zip\n",
        "!mv assets/* ./\n",
        "!rm -rf assets"
      ]
    },
    {
      "cell_type": "markdown",
      "metadata": {
        "id": "GmKOfChTuYbs"
      },
      "source": [
        "### Inferencing\n",
        "We provide inferencing scripts for both model formats:\n",
        "- YOLOv8 format; and\n",
        "- ONNX format.\n",
        "\n",
        "### Yolov8 Format (`inference-yolo.py`)\n",
        "\n",
        "The script arguments are:\n",
        "- `-m`: path to model checkpoint\n",
        "- `-i`: image path/source directory\n",
        "- `-a`: annotation file path (in yolo format; .txt files) (if not specified then the amount of information predicted as result will be limited)\n",
        "- `-s`: save path for `result.csv`\n",
        "- `-r`: to save plotted images (saved to `runs` directory)\n",
        "\n",
        "The saved `result.csv` will contain the predicted results according to the submission format."
      ]
    },
    {
      "cell_type": "code",
      "execution_count": null,
      "metadata": {
        "colab": {
          "base_uri": "https://localhost:8080/"
        },
        "execution": {
          "iopub.execute_input": "2023-07-05T16:52:55.959863Z",
          "iopub.status.busy": "2023-07-05T16:52:55.959485Z",
          "iopub.status.idle": "2023-07-05T16:53:38.191228Z",
          "shell.execute_reply": "2023-07-05T16:53:38.190029Z",
          "shell.execute_reply.started": "2023-07-05T16:52:55.959832Z"
        },
        "id": "rcUpY7jEuTce",
        "outputId": "94466c55-b384-4ab4-99f0-ff8caa6f776d",
        "trusted": true
      },
      "outputs": [
        {
          "output_type": "stream",
          "name": "stdout",
          "text": [
            "Running on: cuda:0\n",
            "\n",
            "image 1/10 /content/torchFlow/dataset/images/predict/DJI_0023.jpg: 2688x3584 21 plastics, 789.3ms\n",
            "image 2/10 /content/torchFlow/dataset/images/predict/DJI_0080.jpg: 2688x3584 20 plastics, 789.6ms\n",
            "image 3/10 /content/torchFlow/dataset/images/predict/DJI_0088.jpg: 2688x3584 12 plastics, 792.9ms\n",
            "image 4/10 /content/torchFlow/dataset/images/predict/DJI_0185.jpg: 2688x3584 18 plastics, 791.8ms\n",
            "image 5/10 /content/torchFlow/dataset/images/predict/DJI_0205.jpg: 2688x3584 11 plastics, 791.8ms\n",
            "image 6/10 /content/torchFlow/dataset/images/predict/DJI_0255.jpg: 2688x3584 22 plastics, 793.7ms\n",
            "image 7/10 /content/torchFlow/dataset/images/predict/DJI_0268.jpg: 2688x3584 19 plastics, 792.1ms\n",
            "image 8/10 /content/torchFlow/dataset/images/predict/DJI_0416.jpg: 2688x3584 6 plastics, 796.8ms\n",
            "image 9/10 /content/torchFlow/dataset/images/predict/DJI_0487.jpg: 2688x3584 9 plastics, 799.9ms\n",
            "image 10/10 /content/torchFlow/dataset/images/predict/DJI_0502.jpg: 2688x3584 10 plastics, 798.9ms\n",
            "Speed: 79.2ms preprocess, 793.7ms inference, 2.2ms postprocess per image at shape (1, 3, 3584, 3584)\n",
            "Results saved to \u001b[1m/content/torchFlow/runs/detect/predict5\u001b[0m\n"
          ]
        }
      ],
      "source": [
        "!python inference-yolo.py -m /content/torchFlow/models/torchFlow-ckpt.pt \\\n",
        "          -i /content/torchFlow/dataset/images/predict \\\n",
        "          -a /content/torchFlow/dataset/labels/predict \\\n",
        "          -s /content/torchFlow \\\n",
        "          -r False"
      ]
    },
    {
      "cell_type": "markdown",
      "metadata": {
        "id": "XIOdtj40uaCb"
      },
      "source": [
        "### ONNX Format (`inference-onnx.py`)\n",
        "\n",
        "For inferencing using ONNX model, the script has the following arguments:\n",
        "- `-m`: path to model checkpoint\n",
        "- `-p`: image path/source directory\n",
        "- `-a`: annotation path (in yolo format; .txt files) (if not specified then the amount of information predicted as result will be limited)\n",
        "- `-s`: save path for `result.csv`\n",
        "- `-i`: True: save predicted images to the `save_path` dir.\n",
        "\n",
        "The `result.csv` will contain the predicted results."
      ]
    },
    {
      "cell_type": "code",
      "execution_count": null,
      "metadata": {
        "colab": {
          "base_uri": "https://localhost:8080/"
        },
        "execution": {
          "iopub.execute_input": "2023-07-05T16:55:36.419237Z",
          "iopub.status.busy": "2023-07-05T16:55:36.418833Z",
          "iopub.status.idle": "2023-07-05T16:55:36.666060Z",
          "shell.execute_reply": "2023-07-05T16:55:36.664435Z",
          "shell.execute_reply.started": "2023-07-05T16:55:36.419204Z"
        },
        "id": "tHEG5Nx5A14o",
        "outputId": "cdd2e0a7-e9d7-4f02-f95d-d056fa97dd74",
        "trusted": true
      },
      "outputs": [
        {
          "output_type": "stream",
          "name": "stdout",
          "text": [
            "GPU\n"
          ]
        }
      ],
      "source": [
        "import onnxruntime as ort\n",
        "print(ort.get_device())"
      ]
    },
    {
      "cell_type": "code",
      "execution_count": null,
      "metadata": {
        "colab": {
          "base_uri": "https://localhost:8080/"
        },
        "execution": {
          "iopub.execute_input": "2023-07-05T16:56:40.006957Z",
          "iopub.status.busy": "2023-07-05T16:56:40.006474Z",
          "iopub.status.idle": "2023-07-05T16:57:24.776226Z",
          "shell.execute_reply": "2023-07-05T16:57:24.775030Z",
          "shell.execute_reply.started": "2023-07-05T16:56:40.006925Z"
        },
        "id": "WZGetO88ubf1",
        "outputId": "cd6f7ac8-305b-480d-c8c0-4db8edcd3244",
        "trusted": true
      },
      "outputs": [
        {
          "output_type": "stream",
          "name": "stdout",
          "text": [
            "Time for predicting DJI_0023.jpg: 32.576545000076294\n",
            "Time for predicting DJI_0080.jpg: 1.3936505317687988\n",
            "Time for predicting DJI_0088.jpg: 1.3107542991638184\n",
            "Time for predicting DJI_0185.jpg: 1.3064360618591309\n",
            "Time for predicting DJI_0205.jpg: 1.3134965896606445\n",
            "Time for predicting DJI_0255.jpg: 1.3068222999572754\n",
            "Time for predicting DJI_0268.jpg: 1.2997171878814697\n",
            "Time for predicting DJI_0416.jpg: 1.3133959770202637\n",
            "Time for predicting DJI_0487.jpg: 1.3222520351409912\n",
            "Time for predicting DJI_0502.jpg: 1.3153040409088135\n",
            "Results saved successfully to at /content/torchFlow!\n"
          ]
        }
      ],
      "source": [
        "!python inference-onnx.py -m /content/torchFlow/models/torchFlow-ckpt.onnx \\\n",
        "          -p /content/torchFlow/dataset/images/predict \\\n",
        "          -a /content/torchFlow/dataset/labels/predict \\\n",
        "          -s /content/torchFlow \\\n",
        "          -i True"
      ]
    },
    {
      "cell_type": "markdown",
      "metadata": {
        "id": "FirSl0n2A14q"
      },
      "source": [
        "### Result"
      ]
    },
    {
      "cell_type": "code",
      "execution_count": null,
      "metadata": {
        "colab": {
          "base_uri": "https://localhost:8080/",
          "height": 600
        },
        "execution": {
          "iopub.execute_input": "2023-07-05T16:57:46.172782Z",
          "iopub.status.busy": "2023-07-05T16:57:46.172380Z",
          "iopub.status.idle": "2023-07-05T16:57:46.204780Z",
          "shell.execute_reply": "2023-07-05T16:57:46.203648Z",
          "shell.execute_reply.started": "2023-07-05T16:57:46.172750Z"
        },
        "id": "TQgY032rA14q",
        "outputId": "b26a6eaa-52d8-46c9-cee0-e7a4a49fb375",
        "trusted": true
      },
      "outputs": [
        {
          "output_type": "execute_result",
          "data": {
            "text/plain": [
              "         IMG_ID PRED_LAB  ACTUAL_CT  PRED_CT  CT_ERROR  PERCENT_ERROR  \\\n",
              "0  DJI_0023.jpg      Yes         25       26        -1          0.040   \n",
              "1  DJI_0080.jpg      Yes         19       20        -1          0.053   \n",
              "2  DJI_0088.jpg      Yes          9       12        -3          0.333   \n",
              "3  DJI_0185.jpg      Yes         20       19         1          0.050   \n",
              "4  DJI_0205.jpg      Yes         10       11        -1          0.100   \n",
              "5  DJI_0255.jpg      Yes         19       22        -3          0.158   \n",
              "6  DJI_0268.jpg      Yes         16       20        -4          0.250   \n",
              "7  DJI_0416.jpg      Yes          8        6         2          0.250   \n",
              "8  DJI_0487.jpg      Yes          7        9        -2          0.286   \n",
              "9  DJI_0502.jpg      Yes         12       11         1          0.083   \n",
              "\n",
              "   mAP_Train  mAP_Test                                        GEO_TAG_URL  \n",
              "0      0.718     0.749  https://www.google.com/maps?q=10.8957917%2C106...  \n",
              "1      0.718     0.749  https://www.google.com/maps?q=10.8959633%2C106...  \n",
              "2      0.718     0.749  https://www.google.com/maps?q=10.8958783%2C106...  \n",
              "3      0.718     0.749  https://www.google.com/maps?q=10.8957933%2C106...  \n",
              "4      0.718     0.749  https://www.google.com/maps?q=10.8958683%2C106...  \n",
              "5      0.718     0.749  https://www.google.com/maps?q=10.8959733%2C106...  \n",
              "6      0.718     0.749  https://www.google.com/maps?q=10.8959283%2C106...  \n",
              "7      0.718     0.749  https://www.google.com/maps?q=10.8959767%2C106...  \n",
              "8      0.718     0.749  https://www.google.com/maps?q=10.8958667%2C106...  \n",
              "9      0.718     0.749  https://www.google.com/maps?q=10.8959767%2C106...  "
            ],
            "text/html": [
              "\n",
              "\n",
              "  <div id=\"df-37922559-27f0-4707-a602-ec3c49c57621\">\n",
              "    <div class=\"colab-df-container\">\n",
              "      <div>\n",
              "<style scoped>\n",
              "    .dataframe tbody tr th:only-of-type {\n",
              "        vertical-align: middle;\n",
              "    }\n",
              "\n",
              "    .dataframe tbody tr th {\n",
              "        vertical-align: top;\n",
              "    }\n",
              "\n",
              "    .dataframe thead th {\n",
              "        text-align: right;\n",
              "    }\n",
              "</style>\n",
              "<table border=\"1\" class=\"dataframe\">\n",
              "  <thead>\n",
              "    <tr style=\"text-align: right;\">\n",
              "      <th></th>\n",
              "      <th>IMG_ID</th>\n",
              "      <th>PRED_LAB</th>\n",
              "      <th>ACTUAL_CT</th>\n",
              "      <th>PRED_CT</th>\n",
              "      <th>CT_ERROR</th>\n",
              "      <th>PERCENT_ERROR</th>\n",
              "      <th>mAP_Train</th>\n",
              "      <th>mAP_Test</th>\n",
              "      <th>GEO_TAG_URL</th>\n",
              "    </tr>\n",
              "  </thead>\n",
              "  <tbody>\n",
              "    <tr>\n",
              "      <th>0</th>\n",
              "      <td>DJI_0023.jpg</td>\n",
              "      <td>Yes</td>\n",
              "      <td>25</td>\n",
              "      <td>26</td>\n",
              "      <td>-1</td>\n",
              "      <td>0.040</td>\n",
              "      <td>0.718</td>\n",
              "      <td>0.749</td>\n",
              "      <td>https://www.google.com/maps?q=10.8957917%2C106...</td>\n",
              "    </tr>\n",
              "    <tr>\n",
              "      <th>1</th>\n",
              "      <td>DJI_0080.jpg</td>\n",
              "      <td>Yes</td>\n",
              "      <td>19</td>\n",
              "      <td>20</td>\n",
              "      <td>-1</td>\n",
              "      <td>0.053</td>\n",
              "      <td>0.718</td>\n",
              "      <td>0.749</td>\n",
              "      <td>https://www.google.com/maps?q=10.8959633%2C106...</td>\n",
              "    </tr>\n",
              "    <tr>\n",
              "      <th>2</th>\n",
              "      <td>DJI_0088.jpg</td>\n",
              "      <td>Yes</td>\n",
              "      <td>9</td>\n",
              "      <td>12</td>\n",
              "      <td>-3</td>\n",
              "      <td>0.333</td>\n",
              "      <td>0.718</td>\n",
              "      <td>0.749</td>\n",
              "      <td>https://www.google.com/maps?q=10.8958783%2C106...</td>\n",
              "    </tr>\n",
              "    <tr>\n",
              "      <th>3</th>\n",
              "      <td>DJI_0185.jpg</td>\n",
              "      <td>Yes</td>\n",
              "      <td>20</td>\n",
              "      <td>19</td>\n",
              "      <td>1</td>\n",
              "      <td>0.050</td>\n",
              "      <td>0.718</td>\n",
              "      <td>0.749</td>\n",
              "      <td>https://www.google.com/maps?q=10.8957933%2C106...</td>\n",
              "    </tr>\n",
              "    <tr>\n",
              "      <th>4</th>\n",
              "      <td>DJI_0205.jpg</td>\n",
              "      <td>Yes</td>\n",
              "      <td>10</td>\n",
              "      <td>11</td>\n",
              "      <td>-1</td>\n",
              "      <td>0.100</td>\n",
              "      <td>0.718</td>\n",
              "      <td>0.749</td>\n",
              "      <td>https://www.google.com/maps?q=10.8958683%2C106...</td>\n",
              "    </tr>\n",
              "    <tr>\n",
              "      <th>5</th>\n",
              "      <td>DJI_0255.jpg</td>\n",
              "      <td>Yes</td>\n",
              "      <td>19</td>\n",
              "      <td>22</td>\n",
              "      <td>-3</td>\n",
              "      <td>0.158</td>\n",
              "      <td>0.718</td>\n",
              "      <td>0.749</td>\n",
              "      <td>https://www.google.com/maps?q=10.8959733%2C106...</td>\n",
              "    </tr>\n",
              "    <tr>\n",
              "      <th>6</th>\n",
              "      <td>DJI_0268.jpg</td>\n",
              "      <td>Yes</td>\n",
              "      <td>16</td>\n",
              "      <td>20</td>\n",
              "      <td>-4</td>\n",
              "      <td>0.250</td>\n",
              "      <td>0.718</td>\n",
              "      <td>0.749</td>\n",
              "      <td>https://www.google.com/maps?q=10.8959283%2C106...</td>\n",
              "    </tr>\n",
              "    <tr>\n",
              "      <th>7</th>\n",
              "      <td>DJI_0416.jpg</td>\n",
              "      <td>Yes</td>\n",
              "      <td>8</td>\n",
              "      <td>6</td>\n",
              "      <td>2</td>\n",
              "      <td>0.250</td>\n",
              "      <td>0.718</td>\n",
              "      <td>0.749</td>\n",
              "      <td>https://www.google.com/maps?q=10.8959767%2C106...</td>\n",
              "    </tr>\n",
              "    <tr>\n",
              "      <th>8</th>\n",
              "      <td>DJI_0487.jpg</td>\n",
              "      <td>Yes</td>\n",
              "      <td>7</td>\n",
              "      <td>9</td>\n",
              "      <td>-2</td>\n",
              "      <td>0.286</td>\n",
              "      <td>0.718</td>\n",
              "      <td>0.749</td>\n",
              "      <td>https://www.google.com/maps?q=10.8958667%2C106...</td>\n",
              "    </tr>\n",
              "    <tr>\n",
              "      <th>9</th>\n",
              "      <td>DJI_0502.jpg</td>\n",
              "      <td>Yes</td>\n",
              "      <td>12</td>\n",
              "      <td>11</td>\n",
              "      <td>1</td>\n",
              "      <td>0.083</td>\n",
              "      <td>0.718</td>\n",
              "      <td>0.749</td>\n",
              "      <td>https://www.google.com/maps?q=10.8959767%2C106...</td>\n",
              "    </tr>\n",
              "  </tbody>\n",
              "</table>\n",
              "</div>\n",
              "      <button class=\"colab-df-convert\" onclick=\"convertToInteractive('df-37922559-27f0-4707-a602-ec3c49c57621')\"\n",
              "              title=\"Convert this dataframe to an interactive table.\"\n",
              "              style=\"display:none;\">\n",
              "\n",
              "  <svg xmlns=\"http://www.w3.org/2000/svg\" height=\"24px\"viewBox=\"0 0 24 24\"\n",
              "       width=\"24px\">\n",
              "    <path d=\"M0 0h24v24H0V0z\" fill=\"none\"/>\n",
              "    <path d=\"M18.56 5.44l.94 2.06.94-2.06 2.06-.94-2.06-.94-.94-2.06-.94 2.06-2.06.94zm-11 1L8.5 8.5l.94-2.06 2.06-.94-2.06-.94L8.5 2.5l-.94 2.06-2.06.94zm10 10l.94 2.06.94-2.06 2.06-.94-2.06-.94-.94-2.06-.94 2.06-2.06.94z\"/><path d=\"M17.41 7.96l-1.37-1.37c-.4-.4-.92-.59-1.43-.59-.52 0-1.04.2-1.43.59L10.3 9.45l-7.72 7.72c-.78.78-.78 2.05 0 2.83L4 21.41c.39.39.9.59 1.41.59.51 0 1.02-.2 1.41-.59l7.78-7.78 2.81-2.81c.8-.78.8-2.07 0-2.86zM5.41 20L4 18.59l7.72-7.72 1.47 1.35L5.41 20z\"/>\n",
              "  </svg>\n",
              "      </button>\n",
              "\n",
              "\n",
              "\n",
              "    <div id=\"df-05c80baf-5f04-41b1-878a-e7f06d17cd04\">\n",
              "      <button class=\"colab-df-quickchart\" onclick=\"quickchart('df-05c80baf-5f04-41b1-878a-e7f06d17cd04')\"\n",
              "              title=\"Suggest charts.\"\n",
              "              style=\"display:none;\">\n",
              "\n",
              "<svg xmlns=\"http://www.w3.org/2000/svg\" height=\"24px\"viewBox=\"0 0 24 24\"\n",
              "     width=\"24px\">\n",
              "    <g>\n",
              "        <path d=\"M19 3H5c-1.1 0-2 .9-2 2v14c0 1.1.9 2 2 2h14c1.1 0 2-.9 2-2V5c0-1.1-.9-2-2-2zM9 17H7v-7h2v7zm4 0h-2V7h2v10zm4 0h-2v-4h2v4z\"/>\n",
              "    </g>\n",
              "</svg>\n",
              "      </button>\n",
              "    </div>\n",
              "\n",
              "<style>\n",
              "  .colab-df-quickchart {\n",
              "    background-color: #E8F0FE;\n",
              "    border: none;\n",
              "    border-radius: 50%;\n",
              "    cursor: pointer;\n",
              "    display: none;\n",
              "    fill: #1967D2;\n",
              "    height: 32px;\n",
              "    padding: 0 0 0 0;\n",
              "    width: 32px;\n",
              "  }\n",
              "\n",
              "  .colab-df-quickchart:hover {\n",
              "    background-color: #E2EBFA;\n",
              "    box-shadow: 0px 1px 2px rgba(60, 64, 67, 0.3), 0px 1px 3px 1px rgba(60, 64, 67, 0.15);\n",
              "    fill: #174EA6;\n",
              "  }\n",
              "\n",
              "  [theme=dark] .colab-df-quickchart {\n",
              "    background-color: #3B4455;\n",
              "    fill: #D2E3FC;\n",
              "  }\n",
              "\n",
              "  [theme=dark] .colab-df-quickchart:hover {\n",
              "    background-color: #434B5C;\n",
              "    box-shadow: 0px 1px 3px 1px rgba(0, 0, 0, 0.15);\n",
              "    filter: drop-shadow(0px 1px 2px rgba(0, 0, 0, 0.3));\n",
              "    fill: #FFFFFF;\n",
              "  }\n",
              "</style>\n",
              "\n",
              "    <script>\n",
              "      async function quickchart(key) {\n",
              "        const containerElement = document.querySelector('#' + key);\n",
              "        const charts = await google.colab.kernel.invokeFunction(\n",
              "            'suggestCharts', [key], {});\n",
              "      }\n",
              "    </script>\n",
              "\n",
              "      <script>\n",
              "\n",
              "function displayQuickchartButton(domScope) {\n",
              "  let quickchartButtonEl =\n",
              "    domScope.querySelector('#df-05c80baf-5f04-41b1-878a-e7f06d17cd04 button.colab-df-quickchart');\n",
              "  quickchartButtonEl.style.display =\n",
              "    google.colab.kernel.accessAllowed ? 'block' : 'none';\n",
              "}\n",
              "\n",
              "        displayQuickchartButton(document);\n",
              "      </script>\n",
              "      <style>\n",
              "    .colab-df-container {\n",
              "      display:flex;\n",
              "      flex-wrap:wrap;\n",
              "      gap: 12px;\n",
              "    }\n",
              "\n",
              "    .colab-df-convert {\n",
              "      background-color: #E8F0FE;\n",
              "      border: none;\n",
              "      border-radius: 50%;\n",
              "      cursor: pointer;\n",
              "      display: none;\n",
              "      fill: #1967D2;\n",
              "      height: 32px;\n",
              "      padding: 0 0 0 0;\n",
              "      width: 32px;\n",
              "    }\n",
              "\n",
              "    .colab-df-convert:hover {\n",
              "      background-color: #E2EBFA;\n",
              "      box-shadow: 0px 1px 2px rgba(60, 64, 67, 0.3), 0px 1px 3px 1px rgba(60, 64, 67, 0.15);\n",
              "      fill: #174EA6;\n",
              "    }\n",
              "\n",
              "    [theme=dark] .colab-df-convert {\n",
              "      background-color: #3B4455;\n",
              "      fill: #D2E3FC;\n",
              "    }\n",
              "\n",
              "    [theme=dark] .colab-df-convert:hover {\n",
              "      background-color: #434B5C;\n",
              "      box-shadow: 0px 1px 3px 1px rgba(0, 0, 0, 0.15);\n",
              "      filter: drop-shadow(0px 1px 2px rgba(0, 0, 0, 0.3));\n",
              "      fill: #FFFFFF;\n",
              "    }\n",
              "  </style>\n",
              "\n",
              "      <script>\n",
              "        const buttonEl =\n",
              "          document.querySelector('#df-37922559-27f0-4707-a602-ec3c49c57621 button.colab-df-convert');\n",
              "        buttonEl.style.display =\n",
              "          google.colab.kernel.accessAllowed ? 'block' : 'none';\n",
              "\n",
              "        async function convertToInteractive(key) {\n",
              "          const element = document.querySelector('#df-37922559-27f0-4707-a602-ec3c49c57621');\n",
              "          const dataTable =\n",
              "            await google.colab.kernel.invokeFunction('convertToInteractive',\n",
              "                                                     [key], {});\n",
              "          if (!dataTable) return;\n",
              "\n",
              "          const docLinkHtml = 'Like what you see? Visit the ' +\n",
              "            '<a target=\"_blank\" href=https://colab.research.google.com/notebooks/data_table.ipynb>data table notebook</a>'\n",
              "            + ' to learn more about interactive tables.';\n",
              "          element.innerHTML = '';\n",
              "          dataTable['output_type'] = 'display_data';\n",
              "          await google.colab.output.renderOutput(dataTable, element);\n",
              "          const docLink = document.createElement('div');\n",
              "          docLink.innerHTML = docLinkHtml;\n",
              "          element.appendChild(docLink);\n",
              "        }\n",
              "      </script>\n",
              "    </div>\n",
              "  </div>\n"
            ]
          },
          "metadata": {},
          "execution_count": 11
        }
      ],
      "source": [
        "import pandas as pd\n",
        "df = pd.read_csv(\"/content/torchFlow/result.csv\")\n",
        "df"
      ]
    }
  ],
  "metadata": {
    "accelerator": "GPU",
    "colab": {
      "gpuType": "T4",
      "provenance": []
    },
    "kernelspec": {
      "display_name": "Python 3",
      "name": "python3"
    },
    "language_info": {
      "codemirror_mode": {
        "name": "ipython",
        "version": 3
      },
      "file_extension": ".py",
      "mimetype": "text/x-python",
      "name": "python",
      "nbconvert_exporter": "python",
      "pygments_lexer": "ipython3",
      "version": "3.10.10"
    }
  },
  "nbformat": 4,
  "nbformat_minor": 0
}
