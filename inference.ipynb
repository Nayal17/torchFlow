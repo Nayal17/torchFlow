{
  "metadata": {
    "colab": {
      "provenance": [],
      "gpuType": "T4"
    },
    "kernelspec": {
      "name": "python3",
      "display_name": "Python 3"
    },
    "language_info": {
      "codemirror_mode": {
        "name": "ipython",
        "version": 3
      },
      "file_extension": ".py",
      "mimetype": "text/x-python",
      "name": "python",
      "nbconvert_exporter": "python",
      "pygments_lexer": "ipython3",
      "version": "3.10.10"
    },
    "accelerator": "GPU"
  },
  "nbformat_minor": 0,
  "nbformat": 4,
  "cells": [
    {
      "cell_type": "markdown",
      "source": [
        "# Walkthrough notebook\n",
        "\n",
        "This notebook walks through our inference script.\n",
        "\n",
        "### Setting up the environment\n",
        "Create a new virtual environment using `venv` or if already created, move on to the next part."
      ],
      "metadata": {
        "id": "3dJtpV3xufYN"
      }
    },
    {
      "cell_type": "code",
      "source": [
        "# !python3 -m venv venv\n",
        "# !source venv/bin/activate"
      ],
      "metadata": {
        "id": "SEkKZIBFueOt"
      },
      "execution_count": null,
      "outputs": []
    },
    {
      "cell_type": "markdown",
      "source": [
        "### Cloning the repo\n",
        "Clone the repo and install the required packages defined in `requirements.txt`."
      ],
      "metadata": {
        "id": "pLFKSz8Rug_0"
      }
    },
    {
      "cell_type": "code",
      "source": [
        "%%capture\n",
        "!git clone https://github.com/arnavrneo/torchFlow.git\n",
        "%cd torchFlow\n",
        "!pip install -r requirements.txt"
      ],
      "metadata": {
        "id": "ouowDB87uh5b",
        "execution": {
          "iopub.status.busy": "2023-07-05T16:51:10.683230Z",
          "iopub.execute_input": "2023-07-05T16:51:10.684031Z",
          "iopub.status.idle": "2023-07-05T16:51:56.120218Z",
          "shell.execute_reply.started": "2023-07-05T16:51:10.683949Z",
          "shell.execute_reply": "2023-07-05T16:51:56.118952Z"
        },
        "trusted": true
      },
      "execution_count": 1,
      "outputs": []
    },
    {
      "cell_type": "markdown",
      "source": [
        "Run the following shell script to (skip this if the data is already arranged):\n",
        "- download the `yolo` and `onnx` model checkpoints to the `models` directory."
      ],
      "metadata": {
        "id": "h1LLZuTvujAk"
      }
    },
    {
      "cell_type": "code",
      "source": [
        "%%capture\n",
        "!./get-data.sh"
      ],
      "metadata": {
        "id": "OV3pQTnzuj1U",
        "execution": {
          "iopub.status.busy": "2023-07-04T12:28:15.878237Z",
          "iopub.execute_input": "2023-07-04T12:28:15.878619Z",
          "iopub.status.idle": "2023-07-04T12:29:58.102754Z",
          "shell.execute_reply.started": "2023-07-04T12:28:15.878588Z",
          "shell.execute_reply": "2023-07-04T12:29:58.101306Z"
        },
        "trusted": true
      },
      "execution_count": 2,
      "outputs": []
    },
    {
      "cell_type": "markdown",
      "source": [
        "### Inferencing\n",
        "We provide inferencing scripts for both model formats:\n",
        "- YOLOv8 format; and\n",
        "- ONNX format.\n",
        "\n",
        "### Yolov8 Format (`inference-yolo.py`)\n",
        "\n",
        "The script arguments are:\n",
        "- `-m`: path to model checkpoint\n",
        "- `-i`: image path/source directory\n",
        "- `-a`: annotation file path (in yolo format; .txt files)\n",
        "- `-s`: save path for `result.csv`\n",
        "- `-r`: to save plotted images (saved to `runs` directory)\n",
        "\n",
        "The saved `result.csv` will contain the predicted results according to the submission format."
      ],
      "metadata": {
        "id": "GmKOfChTuYbs"
      }
    },
    {
      "cell_type": "code",
      "source": [
        "!python inference-yolo.py -m /content/torchFlow/models/torchFlow-ckpt.pt \\\n",
        "          -i /content/torchFlow/dataset/images/predict \\\n",
        "          -a /content/torchFlow/dataset/labels/predict \\\n",
        "          -s /content/torchFlow \\\n",
        "          -r False"
      ],
      "metadata": {
        "id": "rcUpY7jEuTce",
        "execution": {
          "iopub.status.busy": "2023-07-05T16:52:55.959485Z",
          "iopub.execute_input": "2023-07-05T16:52:55.959863Z",
          "iopub.status.idle": "2023-07-05T16:53:38.191228Z",
          "shell.execute_reply.started": "2023-07-05T16:52:55.959832Z",
          "shell.execute_reply": "2023-07-05T16:53:38.190029Z"
        },
        "trusted": true,
        "colab": {
          "base_uri": "https://localhost:8080/"
        },
        "outputId": "070c4476-0195-4031-8133-740aef8eddc3"
      },
      "execution_count": 4,
      "outputs": [
        {
          "output_type": "stream",
          "name": "stdout",
          "text": [
            "Running on: cuda:0\n",
            "\n",
            "image 1/10 /content/torchFlow/dataset/images/predict/DJI_0023.jpg: 2432x3232 27 plastics, 638.6ms\n",
            "image 2/10 /content/torchFlow/dataset/images/predict/DJI_0080.jpg: 2432x3232 20 plastics, 646.8ms\n",
            "image 3/10 /content/torchFlow/dataset/images/predict/DJI_0088.jpg: 2432x3232 13 plastics, 640.6ms\n",
            "image 4/10 /content/torchFlow/dataset/images/predict/DJI_0185.jpg: 2432x3232 23 plastics, 642.9ms\n",
            "image 5/10 /content/torchFlow/dataset/images/predict/DJI_0205.jpg: 2432x3232 12 plastics, 644.8ms\n",
            "image 6/10 /content/torchFlow/dataset/images/predict/DJI_0255.jpg: 2432x3232 28 plastics, 643.1ms\n",
            "image 7/10 /content/torchFlow/dataset/images/predict/DJI_0268.jpg: 2432x3232 21 plastics, 642.2ms\n",
            "image 8/10 /content/torchFlow/dataset/images/predict/DJI_0416.jpg: 2432x3232 7 plastics, 645.9ms\n",
            "image 9/10 /content/torchFlow/dataset/images/predict/DJI_0487.jpg: 2432x3232 9 plastics, 645.0ms\n",
            "image 10/10 /content/torchFlow/dataset/images/predict/DJI_0502.jpg: 2432x3232 13 plastics, 645.7ms\n",
            "Speed: 106.3ms preprocess, 643.6ms inference, 4.8ms postprocess per image at shape (1, 3, 3232, 3232)\n",
            "Results saved to \u001b[1m/content/torchFlow/runs/detect/predict\u001b[0m\n"
          ]
        }
      ]
    },
    {
      "cell_type": "markdown",
      "source": [
        "### ONNX Format (`inference-onnx.py`)\n",
        "\n",
        "For inferencing using ONNX model, the script has the following arguments:\n",
        "- `-m`: path to model checkpoint\n",
        "- `-p`: image path/source directory\n",
        "- `-a`: annotation path (in yolo format)\n",
        "- `-s`: save path for `result.csv`\n",
        "- `-i`: True: save predicted images to the `save_path` dir.\n",
        "\n",
        "The `result.csv` will contain the predicted results."
      ],
      "metadata": {
        "id": "XIOdtj40uaCb"
      }
    },
    {
      "cell_type": "code",
      "source": [
        "import onnxruntime as ort\n",
        "print(ort.get_device())"
      ],
      "metadata": {
        "execution": {
          "iopub.status.busy": "2023-07-05T16:55:36.418833Z",
          "iopub.execute_input": "2023-07-05T16:55:36.419237Z",
          "iopub.status.idle": "2023-07-05T16:55:36.666060Z",
          "shell.execute_reply.started": "2023-07-05T16:55:36.419204Z",
          "shell.execute_reply": "2023-07-05T16:55:36.664435Z"
        },
        "trusted": true,
        "colab": {
          "base_uri": "https://localhost:8080/"
        },
        "id": "tHEG5Nx5A14o",
        "outputId": "20e0cd92-6b52-4590-8d2a-1150861e4dd0"
      },
      "execution_count": 10,
      "outputs": [
        {
          "output_type": "stream",
          "name": "stdout",
          "text": [
            "GPU\n"
          ]
        }
      ]
    },
    {
      "cell_type": "code",
      "source": [
        "!python inference-onnx.py -m /content/torchFlow/models/torchFlow-onnx.onnx \\\n",
        "          -p /content/torchFlow/dataset/images/predict \\\n",
        "          -a /content/torchFlow/dataset/labels/predict \\\n",
        "          -s /content/torchFlow \\\n",
        "          -i True"
      ],
      "metadata": {
        "id": "WZGetO88ubf1",
        "execution": {
          "iopub.status.busy": "2023-07-05T16:56:40.006474Z",
          "iopub.execute_input": "2023-07-05T16:56:40.006957Z",
          "iopub.status.idle": "2023-07-05T16:57:24.776226Z",
          "shell.execute_reply.started": "2023-07-05T16:56:40.006925Z",
          "shell.execute_reply": "2023-07-05T16:57:24.775030Z"
        },
        "trusted": true,
        "colab": {
          "base_uri": "https://localhost:8080/"
        },
        "outputId": "f605e0c6-2ad8-4722-d1cd-d65d6e012d3c"
      },
      "execution_count": 11,
      "outputs": [
        {
          "output_type": "stream",
          "name": "stdout",
          "text": [
            "Time for predicting DJI_0023.jpg: 26.37535262107849\n",
            "Time for predicting DJI_0080.jpg: 1.0963153839111328\n",
            "Time for predicting DJI_0088.jpg: 1.007645845413208\n",
            "Time for predicting DJI_0185.jpg: 1.002485990524292\n",
            "Time for predicting DJI_0205.jpg: 0.9976553916931152\n",
            "Time for predicting DJI_0255.jpg: 1.0269231796264648\n",
            "Time for predicting DJI_0268.jpg: 1.0146114826202393\n",
            "Time for predicting DJI_0416.jpg: 1.0128636360168457\n",
            "Time for predicting DJI_0487.jpg: 1.0219471454620361\n",
            "Time for predicting DJI_0502.jpg: 1.0131404399871826\n",
            "Results saved successfully to at /content/torchFlow!\n"
          ]
        }
      ]
    },
    {
      "cell_type": "markdown",
      "source": [
        "### Result"
      ],
      "metadata": {
        "id": "FirSl0n2A14q"
      }
    },
    {
      "cell_type": "code",
      "source": [
        "import pandas as pd\n",
        "df = pd.read_csv(\"/content/torchFlow/result.csv\")\n",
        "df"
      ],
      "metadata": {
        "execution": {
          "iopub.status.busy": "2023-07-05T16:57:46.172380Z",
          "iopub.execute_input": "2023-07-05T16:57:46.172782Z",
          "iopub.status.idle": "2023-07-05T16:57:46.204780Z",
          "shell.execute_reply.started": "2023-07-05T16:57:46.172750Z",
          "shell.execute_reply": "2023-07-05T16:57:46.203648Z"
        },
        "trusted": true,
        "colab": {
          "base_uri": "https://localhost:8080/",
          "height": 407
        },
        "id": "TQgY032rA14q",
        "outputId": "b2fcd6ea-acf5-4169-ab4e-38feb9413e81"
      },
      "execution_count": 12,
      "outputs": [
        {
          "output_type": "execute_result",
          "data": {
            "text/plain": [
              "         IMG_ID PRED_LAB  ACTUAL_CT  PRED_CT  CT_ERROR  PERCENT_ERROR  \\\n",
              "0  DJI_0023.jpg      Yes         25       27        -2          0.080   \n",
              "1  DJI_0080.jpg      Yes         19       19         0          0.000   \n",
              "2  DJI_0088.jpg      Yes          9       11        -2          0.222   \n",
              "3  DJI_0185.jpg      Yes         20       19         1          0.050   \n",
              "4  DJI_0205.jpg      Yes         10       11        -1          0.100   \n",
              "5  DJI_0255.jpg      Yes         19       24        -5          0.263   \n",
              "6  DJI_0268.jpg      Yes         16       17        -1          0.062   \n",
              "7  DJI_0416.jpg      Yes          8        5         3          0.375   \n",
              "8  DJI_0487.jpg      Yes          7        9        -2          0.286   \n",
              "9  DJI_0502.jpg      Yes         12       14        -2          0.167   \n",
              "\n",
              "   mAP_Train  mAP_Test                                        GEO_TAG_URL  \n",
              "0      0.718     0.737  https://www.google.com/maps?q=10.8957917,106.6...  \n",
              "1      0.718     0.737  https://www.google.com/maps?q=10.8959633,106.6...  \n",
              "2      0.718     0.737  https://www.google.com/maps?q=10.8958783,106.6...  \n",
              "3      0.718     0.737  https://www.google.com/maps?q=10.8957933,106.6...  \n",
              "4      0.718     0.737  https://www.google.com/maps?q=10.8958683,106.6...  \n",
              "5      0.718     0.737  https://www.google.com/maps?q=10.8959733,106.6...  \n",
              "6      0.718     0.737  https://www.google.com/maps?q=10.8959283,106.6...  \n",
              "7      0.718     0.737  https://www.google.com/maps?q=10.8959767,106.6...  \n",
              "8      0.718     0.737  https://www.google.com/maps?q=10.8958667,106.6...  \n",
              "9      0.718     0.737  https://www.google.com/maps?q=10.8959767,106.6...  "
            ],
            "text/html": [
              "\n",
              "  <div id=\"df-397a0547-ebb6-4f1e-9fba-7fd333628443\">\n",
              "    <div class=\"colab-df-container\">\n",
              "      <div>\n",
              "<style scoped>\n",
              "    .dataframe tbody tr th:only-of-type {\n",
              "        vertical-align: middle;\n",
              "    }\n",
              "\n",
              "    .dataframe tbody tr th {\n",
              "        vertical-align: top;\n",
              "    }\n",
              "\n",
              "    .dataframe thead th {\n",
              "        text-align: right;\n",
              "    }\n",
              "</style>\n",
              "<table border=\"1\" class=\"dataframe\">\n",
              "  <thead>\n",
              "    <tr style=\"text-align: right;\">\n",
              "      <th></th>\n",
              "      <th>IMG_ID</th>\n",
              "      <th>PRED_LAB</th>\n",
              "      <th>ACTUAL_CT</th>\n",
              "      <th>PRED_CT</th>\n",
              "      <th>CT_ERROR</th>\n",
              "      <th>PERCENT_ERROR</th>\n",
              "      <th>mAP_Train</th>\n",
              "      <th>mAP_Test</th>\n",
              "      <th>GEO_TAG_URL</th>\n",
              "    </tr>\n",
              "  </thead>\n",
              "  <tbody>\n",
              "    <tr>\n",
              "      <th>0</th>\n",
              "      <td>DJI_0023.jpg</td>\n",
              "      <td>Yes</td>\n",
              "      <td>25</td>\n",
              "      <td>27</td>\n",
              "      <td>-2</td>\n",
              "      <td>0.080</td>\n",
              "      <td>0.718</td>\n",
              "      <td>0.737</td>\n",
              "      <td>https://www.google.com/maps?q=10.8957917,106.6...</td>\n",
              "    </tr>\n",
              "    <tr>\n",
              "      <th>1</th>\n",
              "      <td>DJI_0080.jpg</td>\n",
              "      <td>Yes</td>\n",
              "      <td>19</td>\n",
              "      <td>19</td>\n",
              "      <td>0</td>\n",
              "      <td>0.000</td>\n",
              "      <td>0.718</td>\n",
              "      <td>0.737</td>\n",
              "      <td>https://www.google.com/maps?q=10.8959633,106.6...</td>\n",
              "    </tr>\n",
              "    <tr>\n",
              "      <th>2</th>\n",
              "      <td>DJI_0088.jpg</td>\n",
              "      <td>Yes</td>\n",
              "      <td>9</td>\n",
              "      <td>11</td>\n",
              "      <td>-2</td>\n",
              "      <td>0.222</td>\n",
              "      <td>0.718</td>\n",
              "      <td>0.737</td>\n",
              "      <td>https://www.google.com/maps?q=10.8958783,106.6...</td>\n",
              "    </tr>\n",
              "    <tr>\n",
              "      <th>3</th>\n",
              "      <td>DJI_0185.jpg</td>\n",
              "      <td>Yes</td>\n",
              "      <td>20</td>\n",
              "      <td>19</td>\n",
              "      <td>1</td>\n",
              "      <td>0.050</td>\n",
              "      <td>0.718</td>\n",
              "      <td>0.737</td>\n",
              "      <td>https://www.google.com/maps?q=10.8957933,106.6...</td>\n",
              "    </tr>\n",
              "    <tr>\n",
              "      <th>4</th>\n",
              "      <td>DJI_0205.jpg</td>\n",
              "      <td>Yes</td>\n",
              "      <td>10</td>\n",
              "      <td>11</td>\n",
              "      <td>-1</td>\n",
              "      <td>0.100</td>\n",
              "      <td>0.718</td>\n",
              "      <td>0.737</td>\n",
              "      <td>https://www.google.com/maps?q=10.8958683,106.6...</td>\n",
              "    </tr>\n",
              "    <tr>\n",
              "      <th>5</th>\n",
              "      <td>DJI_0255.jpg</td>\n",
              "      <td>Yes</td>\n",
              "      <td>19</td>\n",
              "      <td>24</td>\n",
              "      <td>-5</td>\n",
              "      <td>0.263</td>\n",
              "      <td>0.718</td>\n",
              "      <td>0.737</td>\n",
              "      <td>https://www.google.com/maps?q=10.8959733,106.6...</td>\n",
              "    </tr>\n",
              "    <tr>\n",
              "      <th>6</th>\n",
              "      <td>DJI_0268.jpg</td>\n",
              "      <td>Yes</td>\n",
              "      <td>16</td>\n",
              "      <td>17</td>\n",
              "      <td>-1</td>\n",
              "      <td>0.062</td>\n",
              "      <td>0.718</td>\n",
              "      <td>0.737</td>\n",
              "      <td>https://www.google.com/maps?q=10.8959283,106.6...</td>\n",
              "    </tr>\n",
              "    <tr>\n",
              "      <th>7</th>\n",
              "      <td>DJI_0416.jpg</td>\n",
              "      <td>Yes</td>\n",
              "      <td>8</td>\n",
              "      <td>5</td>\n",
              "      <td>3</td>\n",
              "      <td>0.375</td>\n",
              "      <td>0.718</td>\n",
              "      <td>0.737</td>\n",
              "      <td>https://www.google.com/maps?q=10.8959767,106.6...</td>\n",
              "    </tr>\n",
              "    <tr>\n",
              "      <th>8</th>\n",
              "      <td>DJI_0487.jpg</td>\n",
              "      <td>Yes</td>\n",
              "      <td>7</td>\n",
              "      <td>9</td>\n",
              "      <td>-2</td>\n",
              "      <td>0.286</td>\n",
              "      <td>0.718</td>\n",
              "      <td>0.737</td>\n",
              "      <td>https://www.google.com/maps?q=10.8958667,106.6...</td>\n",
              "    </tr>\n",
              "    <tr>\n",
              "      <th>9</th>\n",
              "      <td>DJI_0502.jpg</td>\n",
              "      <td>Yes</td>\n",
              "      <td>12</td>\n",
              "      <td>14</td>\n",
              "      <td>-2</td>\n",
              "      <td>0.167</td>\n",
              "      <td>0.718</td>\n",
              "      <td>0.737</td>\n",
              "      <td>https://www.google.com/maps?q=10.8959767,106.6...</td>\n",
              "    </tr>\n",
              "  </tbody>\n",
              "</table>\n",
              "</div>\n",
              "      <button class=\"colab-df-convert\" onclick=\"convertToInteractive('df-397a0547-ebb6-4f1e-9fba-7fd333628443')\"\n",
              "              title=\"Convert this dataframe to an interactive table.\"\n",
              "              style=\"display:none;\">\n",
              "        \n",
              "  <svg xmlns=\"http://www.w3.org/2000/svg\" height=\"24px\"viewBox=\"0 0 24 24\"\n",
              "       width=\"24px\">\n",
              "    <path d=\"M0 0h24v24H0V0z\" fill=\"none\"/>\n",
              "    <path d=\"M18.56 5.44l.94 2.06.94-2.06 2.06-.94-2.06-.94-.94-2.06-.94 2.06-2.06.94zm-11 1L8.5 8.5l.94-2.06 2.06-.94-2.06-.94L8.5 2.5l-.94 2.06-2.06.94zm10 10l.94 2.06.94-2.06 2.06-.94-2.06-.94-.94-2.06-.94 2.06-2.06.94z\"/><path d=\"M17.41 7.96l-1.37-1.37c-.4-.4-.92-.59-1.43-.59-.52 0-1.04.2-1.43.59L10.3 9.45l-7.72 7.72c-.78.78-.78 2.05 0 2.83L4 21.41c.39.39.9.59 1.41.59.51 0 1.02-.2 1.41-.59l7.78-7.78 2.81-2.81c.8-.78.8-2.07 0-2.86zM5.41 20L4 18.59l7.72-7.72 1.47 1.35L5.41 20z\"/>\n",
              "  </svg>\n",
              "      </button>\n",
              "      \n",
              "  <style>\n",
              "    .colab-df-container {\n",
              "      display:flex;\n",
              "      flex-wrap:wrap;\n",
              "      gap: 12px;\n",
              "    }\n",
              "\n",
              "    .colab-df-convert {\n",
              "      background-color: #E8F0FE;\n",
              "      border: none;\n",
              "      border-radius: 50%;\n",
              "      cursor: pointer;\n",
              "      display: none;\n",
              "      fill: #1967D2;\n",
              "      height: 32px;\n",
              "      padding: 0 0 0 0;\n",
              "      width: 32px;\n",
              "    }\n",
              "\n",
              "    .colab-df-convert:hover {\n",
              "      background-color: #E2EBFA;\n",
              "      box-shadow: 0px 1px 2px rgba(60, 64, 67, 0.3), 0px 1px 3px 1px rgba(60, 64, 67, 0.15);\n",
              "      fill: #174EA6;\n",
              "    }\n",
              "\n",
              "    [theme=dark] .colab-df-convert {\n",
              "      background-color: #3B4455;\n",
              "      fill: #D2E3FC;\n",
              "    }\n",
              "\n",
              "    [theme=dark] .colab-df-convert:hover {\n",
              "      background-color: #434B5C;\n",
              "      box-shadow: 0px 1px 3px 1px rgba(0, 0, 0, 0.15);\n",
              "      filter: drop-shadow(0px 1px 2px rgba(0, 0, 0, 0.3));\n",
              "      fill: #FFFFFF;\n",
              "    }\n",
              "  </style>\n",
              "\n",
              "      <script>\n",
              "        const buttonEl =\n",
              "          document.querySelector('#df-397a0547-ebb6-4f1e-9fba-7fd333628443 button.colab-df-convert');\n",
              "        buttonEl.style.display =\n",
              "          google.colab.kernel.accessAllowed ? 'block' : 'none';\n",
              "\n",
              "        async function convertToInteractive(key) {\n",
              "          const element = document.querySelector('#df-397a0547-ebb6-4f1e-9fba-7fd333628443');\n",
              "          const dataTable =\n",
              "            await google.colab.kernel.invokeFunction('convertToInteractive',\n",
              "                                                     [key], {});\n",
              "          if (!dataTable) return;\n",
              "\n",
              "          const docLinkHtml = 'Like what you see? Visit the ' +\n",
              "            '<a target=\"_blank\" href=https://colab.research.google.com/notebooks/data_table.ipynb>data table notebook</a>'\n",
              "            + ' to learn more about interactive tables.';\n",
              "          element.innerHTML = '';\n",
              "          dataTable['output_type'] = 'display_data';\n",
              "          await google.colab.output.renderOutput(dataTable, element);\n",
              "          const docLink = document.createElement('div');\n",
              "          docLink.innerHTML = docLinkHtml;\n",
              "          element.appendChild(docLink);\n",
              "        }\n",
              "      </script>\n",
              "    </div>\n",
              "  </div>\n",
              "  "
            ]
          },
          "metadata": {},
          "execution_count": 12
        }
      ]
    }
  ]
}